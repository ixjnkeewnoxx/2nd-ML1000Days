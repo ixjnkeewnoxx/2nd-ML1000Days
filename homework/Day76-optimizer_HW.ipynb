{
 "cells": [
  {
   "cell_type": "markdown",
   "metadata": {},
   "source": [
    "# 作業重點:\n",
    "\n",
    "(1)以, Adam, 為例, 調整 batch_size, epoch , 觀察accurancy, loss 的變化\n",
    "\n",
    "(2)以同一模型, 分別驗證 SGD, Adam, Rmsprop 的 accurancy"
   ]
  },
  {
   "cell_type": "markdown",
   "metadata": {},
   "source": [
    "# 作業目標:\n",
    "    \n",
    "    取得各種優化器的運算結果"
   ]
  },
  {
   "cell_type": "code",
   "execution_count": 1,
   "metadata": {},
   "outputs": [
    {
     "name": "stderr",
     "output_type": "stream",
     "text": [
      "Using TensorFlow backend.\n"
     ]
    }
   ],
   "source": [
    "from __future__ import print_function\n",
    "import keras\n",
    "from keras.datasets import cifar10\n",
    "from keras.preprocessing.image import ImageDataGenerator\n",
    "from keras.models import Sequential\n",
    "from keras.layers import Dense, Dropout, Activation, Flatten\n",
    "from keras.layers import Conv2D, MaxPooling2D\n",
    "import os\n",
    "from keras import optimizers\n"
   ]
  },
  {
   "cell_type": "code",
   "execution_count": 2,
   "metadata": {},
   "outputs": [],
   "source": [
    "#Blas GEMM launch failed , 避免動態分配GPU / CPU, 出現問題\n",
    "import tensorflow as tf\n",
    "gpu_options = tf.GPUOptions(per_process_gpu_memory_fraction=0.333)\n",
    "sess = tf.Session(config=tf.ConfigProto(gpu_options=gpu_options))\n"
   ]
  },
  {
   "cell_type": "code",
   "execution_count": 3,
   "metadata": {},
   "outputs": [],
   "source": [
    "batch_size = 64\n",
    "#batch_size = 32\n",
    "num_classes = 10\n",
    "epochs = 50\n",
    "#epochs = 20\n",
    "data_augmentation = True\n",
    "num_predictions = 20\n",
    "save_dir = os.path.join(os.getcwd(), 'saved_models')\n",
    "model_name = 'keras_cifar10_trained_model.h5'\n"
   ]
  },
  {
   "cell_type": "code",
   "execution_count": 13,
   "metadata": {},
   "outputs": [
    {
     "name": "stdout",
     "output_type": "stream",
     "text": [
      "x_train shape: (50000, 32, 32, 3)\n",
      "50000 train samples\n",
      "10000 test samples\n"
     ]
    }
   ],
   "source": [
    "# The data, split between train and test sets:\n",
    "(x_train, y_train), (x_test, y_test) = cifar10.load_data()\n",
    "print('x_train shape:', x_train.shape)\n",
    "print(x_train.shape[0], 'train samples')\n",
    "print(x_test.shape[0], 'test samples')\n",
    "\n",
    "# Convert class vectors to binary class matrices.\n",
    "y_train = keras.utils.to_categorical(y_train, num_classes)\n",
    "y_test = keras.utils.to_categorical(y_test, num_classes)"
   ]
  },
  {
   "cell_type": "code",
   "execution_count": 5,
   "metadata": {},
   "outputs": [
    {
     "name": "stderr",
     "output_type": "stream",
     "text": [
      "WARNING: Logging before flag parsing goes to stderr.\n",
      "W0810 15:16:53.150535  7188 deprecation_wrapper.py:119] From c:\\users\\user\\anaconda3\\envs\\keras37\\lib\\site-packages\\keras\\backend\\tensorflow_backend.py:74: The name tf.get_default_graph is deprecated. Please use tf.compat.v1.get_default_graph instead.\n",
      "\n",
      "W0810 15:16:53.152531  7188 deprecation_wrapper.py:119] From c:\\users\\user\\anaconda3\\envs\\keras37\\lib\\site-packages\\keras\\backend\\tensorflow_backend.py:517: The name tf.placeholder is deprecated. Please use tf.compat.v1.placeholder instead.\n",
      "\n",
      "W0810 15:16:53.155522  7188 deprecation_wrapper.py:119] From c:\\users\\user\\anaconda3\\envs\\keras37\\lib\\site-packages\\keras\\backend\\tensorflow_backend.py:4138: The name tf.random_uniform is deprecated. Please use tf.random.uniform instead.\n",
      "\n",
      "W0810 15:16:53.175470  7188 deprecation_wrapper.py:119] From c:\\users\\user\\anaconda3\\envs\\keras37\\lib\\site-packages\\keras\\backend\\tensorflow_backend.py:3976: The name tf.nn.max_pool is deprecated. Please use tf.nn.max_pool2d instead.\n",
      "\n",
      "W0810 15:16:53.177466  7188 deprecation_wrapper.py:119] From c:\\users\\user\\anaconda3\\envs\\keras37\\lib\\site-packages\\keras\\backend\\tensorflow_backend.py:133: The name tf.placeholder_with_default is deprecated. Please use tf.compat.v1.placeholder_with_default instead.\n",
      "\n",
      "W0810 15:16:53.182477  7188 deprecation.py:506] From c:\\users\\user\\anaconda3\\envs\\keras37\\lib\\site-packages\\keras\\backend\\tensorflow_backend.py:3445: calling dropout (from tensorflow.python.ops.nn_ops) with keep_prob is deprecated and will be removed in a future version.\n",
      "Instructions for updating:\n",
      "Please use `rate` instead of `keep_prob`. Rate should be set to `rate = 1 - keep_prob`.\n"
     ]
    }
   ],
   "source": [
    "#    第一步：選擇模型, 順序模型是多個網絡層的線性堆疊\n",
    " \n",
    "model = Sequential()\n",
    "\n",
    "#   第二步：構建網絡層\n",
    "model.add(Conv2D(32, (3, 3), padding='same',\n",
    "                 input_shape=x_train.shape[1:]))\n",
    "model.add(Activation('relu'))\n",
    "model.add(Conv2D(32, (3, 3)))\n",
    "model.add(Activation('relu'))\n",
    "model.add(MaxPooling2D(pool_size=(2, 2)))\n",
    "model.add(Dropout(0.25))\n",
    "\n",
    "model.add(Conv2D(64, (3, 3), padding='same'))\n",
    "model.add(Activation('relu'))\n",
    "model.add(Conv2D(64, (3, 3)))\n",
    "model.add(Activation('relu'))\n",
    "model.add(MaxPooling2D(pool_size=(2, 2)))\n",
    "model.add(Dropout(0.25))\n",
    "\n",
    "model.add(Flatten())\n",
    "model.add(Dense(512))\n",
    "model.add(Activation('relu'))\n",
    "model.add(Dropout(0.5))\n",
    "\n",
    "model.add(Dense( 10)) # 輸出結果是10個類別，所以維度是10   \n",
    "model.add(Activation('softmax')) # 最後一層用softmax作為激活函數"
   ]
  },
  {
   "cell_type": "code",
   "execution_count": 6,
   "metadata": {},
   "outputs": [
    {
     "name": "stdout",
     "output_type": "stream",
     "text": [
      "Total Parameters：1250858\n"
     ]
    }
   ],
   "source": [
    "# 模型建立完成後，統計參數總量\n",
    "print(\"Total Parameters：%d\" % model.count_params())"
   ]
  },
  {
   "cell_type": "code",
   "execution_count": 7,
   "metadata": {},
   "outputs": [
    {
     "name": "stdout",
     "output_type": "stream",
     "text": [
      "_________________________________________________________________\n",
      "Layer (type)                 Output Shape              Param #   \n",
      "=================================================================\n",
      "conv2d_1 (Conv2D)            (None, 32, 32, 32)        896       \n",
      "_________________________________________________________________\n",
      "activation_1 (Activation)    (None, 32, 32, 32)        0         \n",
      "_________________________________________________________________\n",
      "conv2d_2 (Conv2D)            (None, 30, 30, 32)        9248      \n",
      "_________________________________________________________________\n",
      "activation_2 (Activation)    (None, 30, 30, 32)        0         \n",
      "_________________________________________________________________\n",
      "max_pooling2d_1 (MaxPooling2 (None, 15, 15, 32)        0         \n",
      "_________________________________________________________________\n",
      "dropout_1 (Dropout)          (None, 15, 15, 32)        0         \n",
      "_________________________________________________________________\n",
      "conv2d_3 (Conv2D)            (None, 15, 15, 64)        18496     \n",
      "_________________________________________________________________\n",
      "activation_3 (Activation)    (None, 15, 15, 64)        0         \n",
      "_________________________________________________________________\n",
      "conv2d_4 (Conv2D)            (None, 13, 13, 64)        36928     \n",
      "_________________________________________________________________\n",
      "activation_4 (Activation)    (None, 13, 13, 64)        0         \n",
      "_________________________________________________________________\n",
      "max_pooling2d_2 (MaxPooling2 (None, 6, 6, 64)          0         \n",
      "_________________________________________________________________\n",
      "dropout_2 (Dropout)          (None, 6, 6, 64)          0         \n",
      "_________________________________________________________________\n",
      "flatten_1 (Flatten)          (None, 2304)              0         \n",
      "_________________________________________________________________\n",
      "dense_1 (Dense)              (None, 512)               1180160   \n",
      "_________________________________________________________________\n",
      "activation_5 (Activation)    (None, 512)               0         \n",
      "_________________________________________________________________\n",
      "dropout_3 (Dropout)          (None, 512)               0         \n",
      "_________________________________________________________________\n",
      "dense_2 (Dense)              (None, 10)                5130      \n",
      "_________________________________________________________________\n",
      "activation_6 (Activation)    (None, 10)                0         \n",
      "=================================================================\n",
      "Total params: 1,250,858\n",
      "Trainable params: 1,250,858\n",
      "Non-trainable params: 0\n",
      "_________________________________________________________________\n"
     ]
    }
   ],
   "source": [
    "# 輸出模型摘要資訊\n",
    "model.summary()"
   ]
  },
  {
   "cell_type": "code",
   "execution_count": 10,
   "metadata": {},
   "outputs": [
    {
     "name": "stderr",
     "output_type": "stream",
     "text": [
      "W0810 15:19:29.369644  7188 deprecation_wrapper.py:119] From c:\\users\\user\\anaconda3\\envs\\keras37\\lib\\site-packages\\keras\\optimizers.py:790: The name tf.train.Optimizer is deprecated. Please use tf.compat.v1.train.Optimizer instead.\n",
      "\n",
      "W0810 15:19:29.375627  7188 deprecation_wrapper.py:119] From c:\\users\\user\\anaconda3\\envs\\keras37\\lib\\site-packages\\keras\\backend\\tensorflow_backend.py:3295: The name tf.log is deprecated. Please use tf.math.log instead.\n",
      "\n"
     ]
    }
   ],
   "source": [
    "#第三步編譯\n",
    "'''\n",
    " SGD(隨機梯度下降) - Arguments\n",
    "lr: float >= 0. Learning rate.\n",
    "momentum: float >= 0. Parameter that accelerates SGD in the relevant direction and dampens oscillations.\n",
    "decay: float >= 0. Learning rate decay over each update.\n",
    "nesterov: boolean. Whether to apply Nesterov momentum.\n",
    "'''\n",
    "opt = optimizers.SGD(lr=0.01, decay=1e-6, momentum=0.9, nesterov=True)\n",
    "\n",
    "'''\n",
    "RMSprop- Arguments\n",
    "lr: float >= 0. Learning rate.\n",
    "rho: float >= 0.\n",
    "epsilon: float >= 0. Fuzz factor. If None, defaults to K.epsilon().\n",
    "decay: float >= 0. Learning rate decay over each update.\n",
    "'''\n",
    "\n",
    "\n",
    "model.compile(optimizer = opt, loss = 'categorical_crossentropy', metrics = ['accuracy'])\n"
   ]
  },
  {
   "cell_type": "code",
   "execution_count": 15,
   "metadata": {},
   "outputs": [],
   "source": [
    "# 資料正規化\n",
    "x_train = x_train.astype('float32')\n",
    "x_test = x_test.astype('float32')\n",
    "x_train /= 255\n",
    "x_test /= 255\n"
   ]
  },
  {
   "cell_type": "code",
   "execution_count": 16,
   "metadata": {},
   "outputs": [
    {
     "name": "stdout",
     "output_type": "stream",
     "text": [
      "Using real-time data augmentation.\n",
      "\n"
     ]
    },
    {
     "name": "stderr",
     "output_type": "stream",
     "text": [
      "W0810 15:20:04.359815  7188 deprecation.py:323] From c:\\users\\user\\anaconda3\\envs\\keras37\\lib\\site-packages\\tensorflow\\python\\ops\\math_grad.py:1250: add_dispatch_support.<locals>.wrapper (from tensorflow.python.ops.array_ops) is deprecated and will be removed in a future version.\n",
      "Instructions for updating:\n",
      "Use tf.where in 2.0, which has the same broadcast rule as np.where\n"
     ]
    },
    {
     "name": "stdout",
     "output_type": "stream",
     "text": [
      "Train on 50000 samples, validate on 10000 samples\n",
      "Epoch 1/50\n",
      "50000/50000 [==============================] - 80s 2ms/step - loss: 1.8302 - acc: 0.3289 - val_loss: 1.3815 - val_acc: 0.4948\n",
      "Epoch 2/50\n",
      "50000/50000 [==============================] - 82s 2ms/step - loss: 1.3598 - acc: 0.5093 - val_loss: 1.2509 - val_acc: 0.5433\n",
      "Epoch 3/50\n",
      "50000/50000 [==============================] - 81s 2ms/step - loss: 1.1787 - acc: 0.5775 - val_loss: 1.0749 - val_acc: 0.6180\n",
      "Epoch 4/50\n",
      "50000/50000 [==============================] - 78s 2ms/step - loss: 1.0501 - acc: 0.6258 - val_loss: 0.9912 - val_acc: 0.6559\n",
      "Epoch 5/50\n",
      "50000/50000 [==============================] - 78s 2ms/step - loss: 0.9528 - acc: 0.6626 - val_loss: 0.8469 - val_acc: 0.7015\n",
      "Epoch 6/50\n",
      "50000/50000 [==============================] - 76s 2ms/step - loss: 0.8781 - acc: 0.6899 - val_loss: 0.8134 - val_acc: 0.7188\n",
      "Epoch 7/50\n",
      "50000/50000 [==============================] - 76s 2ms/step - loss: 0.8215 - acc: 0.7105 - val_loss: 0.7902 - val_acc: 0.7229\n",
      "Epoch 8/50\n",
      "50000/50000 [==============================] - 77s 2ms/step - loss: 0.7670 - acc: 0.7301 - val_loss: 0.7240 - val_acc: 0.7503\n",
      "Epoch 9/50\n",
      "50000/50000 [==============================] - 76s 2ms/step - loss: 0.7355 - acc: 0.7408 - val_loss: 0.7016 - val_acc: 0.7558\n",
      "Epoch 10/50\n",
      "50000/50000 [==============================] - 76s 2ms/step - loss: 0.6986 - acc: 0.7538 - val_loss: 0.7323 - val_acc: 0.7465\n",
      "Epoch 11/50\n",
      "50000/50000 [==============================] - 78s 2ms/step - loss: 0.6715 - acc: 0.7620 - val_loss: 0.6994 - val_acc: 0.7582\n",
      "Epoch 12/50\n",
      "50000/50000 [==============================] - 79s 2ms/step - loss: 0.6350 - acc: 0.7765 - val_loss: 0.6694 - val_acc: 0.7675\n",
      "Epoch 13/50\n",
      "50000/50000 [==============================] - 79s 2ms/step - loss: 0.6185 - acc: 0.7824 - val_loss: 0.6557 - val_acc: 0.7732\n",
      "Epoch 14/50\n",
      "50000/50000 [==============================] - 77s 2ms/step - loss: 0.5966 - acc: 0.7882 - val_loss: 0.6463 - val_acc: 0.7755\n",
      "Epoch 15/50\n",
      "50000/50000 [==============================] - 74s 1ms/step - loss: 0.5772 - acc: 0.7964 - val_loss: 0.6286 - val_acc: 0.7817\n",
      "Epoch 16/50\n",
      "50000/50000 [==============================] - 74s 1ms/step - loss: 0.5589 - acc: 0.8015 - val_loss: 0.6562 - val_acc: 0.7727\n",
      "Epoch 17/50\n",
      "50000/50000 [==============================] - 75s 1ms/step - loss: 0.5408 - acc: 0.8089 - val_loss: 0.6913 - val_acc: 0.7625\n",
      "Epoch 18/50\n",
      "50000/50000 [==============================] - 74s 1ms/step - loss: 0.5246 - acc: 0.8141 - val_loss: 0.6516 - val_acc: 0.7768\n",
      "Epoch 19/50\n",
      "50000/50000 [==============================] - 75s 1ms/step - loss: 0.5063 - acc: 0.8202 - val_loss: 0.6310 - val_acc: 0.7882\n",
      "Epoch 20/50\n",
      "50000/50000 [==============================] - 75s 2ms/step - loss: 0.4907 - acc: 0.8264 - val_loss: 0.6205 - val_acc: 0.7937\n",
      "Epoch 21/50\n",
      "50000/50000 [==============================] - 75s 2ms/step - loss: 0.4782 - acc: 0.8302 - val_loss: 0.6154 - val_acc: 0.7898\n",
      "Epoch 22/50\n",
      "50000/50000 [==============================] - 74s 1ms/step - loss: 0.4681 - acc: 0.8335 - val_loss: 0.6136 - val_acc: 0.7897\n",
      "Epoch 23/50\n",
      "50000/50000 [==============================] - 75s 1ms/step - loss: 0.4602 - acc: 0.8354 - val_loss: 0.6230 - val_acc: 0.7887\n",
      "Epoch 24/50\n",
      "50000/50000 [==============================] - 75s 1ms/step - loss: 0.4447 - acc: 0.8417 - val_loss: 0.6552 - val_acc: 0.7852\n",
      "Epoch 25/50\n",
      "50000/50000 [==============================] - 76s 2ms/step - loss: 0.4398 - acc: 0.8451 - val_loss: 0.6532 - val_acc: 0.7855\n",
      "Epoch 26/50\n",
      "50000/50000 [==============================] - 76s 2ms/step - loss: 0.4251 - acc: 0.8496 - val_loss: 0.6417 - val_acc: 0.7902\n",
      "Epoch 27/50\n",
      "50000/50000 [==============================] - 75s 2ms/step - loss: 0.4122 - acc: 0.8533 - val_loss: 0.6272 - val_acc: 0.7936\n",
      "Epoch 28/50\n",
      "50000/50000 [==============================] - 74s 1ms/step - loss: 0.4140 - acc: 0.8538 - val_loss: 0.6056 - val_acc: 0.8002\n",
      "Epoch 29/50\n",
      "50000/50000 [==============================] - 74s 1ms/step - loss: 0.4059 - acc: 0.8559 - val_loss: 0.6118 - val_acc: 0.7922\n",
      "Epoch 30/50\n",
      "50000/50000 [==============================] - 74s 1ms/step - loss: 0.3927 - acc: 0.8599 - val_loss: 0.6202 - val_acc: 0.7989\n",
      "Epoch 31/50\n",
      "50000/50000 [==============================] - 76s 2ms/step - loss: 0.3912 - acc: 0.8601 - val_loss: 0.6188 - val_acc: 0.7995\n",
      "Epoch 32/50\n",
      "50000/50000 [==============================] - 76s 2ms/step - loss: 0.3836 - acc: 0.8650 - val_loss: 0.6398 - val_acc: 0.7952\n",
      "Epoch 33/50\n",
      "50000/50000 [==============================] - 76s 2ms/step - loss: 0.3791 - acc: 0.8654 - val_loss: 0.6148 - val_acc: 0.7980\n",
      "Epoch 34/50\n",
      "50000/50000 [==============================] - 76s 2ms/step - loss: 0.3666 - acc: 0.8710 - val_loss: 0.6544 - val_acc: 0.7934\n",
      "Epoch 35/50\n",
      "50000/50000 [==============================] - 76s 2ms/step - loss: 0.3649 - acc: 0.8694 - val_loss: 0.6749 - val_acc: 0.7847\n",
      "Epoch 36/50\n",
      "50000/50000 [==============================] - 76s 2ms/step - loss: 0.3614 - acc: 0.8718 - val_loss: 0.6315 - val_acc: 0.7983\n",
      "Epoch 37/50\n",
      "50000/50000 [==============================] - 76s 2ms/step - loss: 0.3525 - acc: 0.8763 - val_loss: 0.6562 - val_acc: 0.7944\n",
      "Epoch 38/50\n",
      "50000/50000 [==============================] - 76s 2ms/step - loss: 0.3498 - acc: 0.8761 - val_loss: 0.6339 - val_acc: 0.7949\n",
      "Epoch 39/50\n",
      "50000/50000 [==============================] - 76s 2ms/step - loss: 0.3475 - acc: 0.8787 - val_loss: 0.6410 - val_acc: 0.7967\n",
      "Epoch 40/50\n",
      "50000/50000 [==============================] - 76s 2ms/step - loss: 0.3481 - acc: 0.8784 - val_loss: 0.6337 - val_acc: 0.7996\n",
      "Epoch 41/50\n",
      "50000/50000 [==============================] - 76s 2ms/step - loss: 0.3434 - acc: 0.8779 - val_loss: 0.6601 - val_acc: 0.8031\n",
      "Epoch 42/50\n",
      "50000/50000 [==============================] - 76s 2ms/step - loss: 0.3351 - acc: 0.8839 - val_loss: 0.6629 - val_acc: 0.7954\n",
      "Epoch 43/50\n",
      "50000/50000 [==============================] - 76s 2ms/step - loss: 0.3279 - acc: 0.8839 - val_loss: 0.6594 - val_acc: 0.7943\n",
      "Epoch 44/50\n",
      "50000/50000 [==============================] - 76s 2ms/step - loss: 0.3266 - acc: 0.8850 - val_loss: 0.6673 - val_acc: 0.7966\n",
      "Epoch 45/50\n",
      "50000/50000 [==============================] - 76s 2ms/step - loss: 0.3260 - acc: 0.8833 - val_loss: 0.6570 - val_acc: 0.8020\n",
      "Epoch 46/50\n",
      "50000/50000 [==============================] - 76s 2ms/step - loss: 0.3249 - acc: 0.8861 - val_loss: 0.6308 - val_acc: 0.8001\n",
      "Epoch 47/50\n",
      "50000/50000 [==============================] - 76s 2ms/step - loss: 0.3165 - acc: 0.8872 - val_loss: 0.6540 - val_acc: 0.7962\n",
      "Epoch 48/50\n",
      "50000/50000 [==============================] - 77s 2ms/step - loss: 0.3097 - acc: 0.8917 - val_loss: 0.6855 - val_acc: 0.7949\n",
      "Epoch 49/50\n",
      "50000/50000 [==============================] - 76s 2ms/step - loss: 0.3123 - acc: 0.8903 - val_loss: 0.6456 - val_acc: 0.7968\n",
      "Epoch 50/50\n",
      "50000/50000 [==============================] - 77s 2ms/step - loss: 0.3159 - acc: 0.8899 - val_loss: 0.6819 - val_acc: 0.7906\n"
     ]
    },
    {
     "data": {
      "text/plain": [
       "'\\n   第四步：訓練\\n   .fit的一些參數\\n   batch_size：對總的樣本數進行分組，每組包含的樣本數量\\n   epochs ：訓練次數\\n   shuffle：是否把數據隨機打亂之後再進行訓練\\n   validation_split：拿出百分之多少用來做交叉驗證\\n   verbose：屏顯模式 - 0：不輸出, 1：輸出進度, 2：輸出每次的訓練結果\\n'"
      ]
     },
     "execution_count": 16,
     "metadata": {},
     "output_type": "execute_result"
    }
   ],
   "source": [
    "# 是否要做資料處理\n",
    "if not data_augmentation:\n",
    "    print('Not using data augmentation.')\n",
    "    history=model.fit(x_train, y_train,\n",
    "              batch_size=batch_size,\n",
    "              epochs=epochs,\n",
    "              validation_data=(x_test, y_test),\n",
    "              shuffle=True)\n",
    "else:\n",
    "    print('Using real-time data augmentation.')\n",
    "    print('')\n",
    "        \n",
    "    # This will do preprocessing and realtime data augmentation:\n",
    "    datagen = ImageDataGenerator(\n",
    "        featurewise_center=False,  # set input mean to 0 over the dataset\n",
    "        samplewise_center=False,  # set each sample mean to 0\n",
    "        featurewise_std_normalization=False,  # divide inputs by std of the dataset\n",
    "        samplewise_std_normalization=False,  # divide each input by its std\n",
    "        zca_whitening=False,  # apply ZCA whitening\n",
    "        zca_epsilon=1e-06,  # epsilon for ZCA whitening\n",
    "        rotation_range=0,  # randomly rotate images in the range (degrees, 0 to 180)\n",
    "        # randomly shift images horizontally (fraction of total width)\n",
    "        width_shift_range=0.1,\n",
    "        # randomly shift images vertically (fraction of total height)\n",
    "        height_shift_range=0.1,\n",
    "        shear_range=0.,  # set range for random shear\n",
    "        zoom_range=0.,  # set range for random zoom\n",
    "        channel_shift_range=0.,  # set range for random channel shifts\n",
    "        # set mode for filling points outside the input boundaries\n",
    "        fill_mode='nearest',\n",
    "        cval=0.,  # value used for fill_mode = \"constant\"\n",
    "        horizontal_flip=True,  # randomly flip images\n",
    "        vertical_flip=False,  # randomly flip images\n",
    "        # set rescaling factor (applied before any other transformation)\n",
    "        rescale=None,\n",
    "        # set function that will be applied on each input\n",
    "        preprocessing_function=None,\n",
    "        # image data format, either \"channels_first\" or \"channels_last\"\n",
    "        data_format=None,\n",
    "        # fraction of images reserved for validation (strictly between 0 and 1)\n",
    "        validation_split=0.0)\n",
    "\n",
    "    # Compute quantities required for feature-wise normalization\n",
    "    # (std, mean, and principal components if ZCA whitening is applied).\n",
    "    datagen.fit(x_train)\n",
    "    history=model.fit(x_train, y_train,\n",
    "              batch_size=batch_size,\n",
    "              epochs=epochs,\n",
    "              validation_data=(x_test, y_test),\n",
    "              shuffle=True)   \n",
    "\n",
    "'''\n",
    "   第四步：訓練\n",
    "   .fit的一些參數\n",
    "   batch_size：對總的樣本數進行分組，每組包含的樣本數量\n",
    "   epochs ：訓練次數\n",
    "   shuffle：是否把數據隨機打亂之後再進行訓練\n",
    "   validation_split：拿出百分之多少用來做交叉驗證\n",
    "   verbose：屏顯模式 - 0：不輸出, 1：輸出進度, 2：輸出每次的訓練結果\n",
    "''' \n",
    "    "
   ]
  },
  {
   "cell_type": "code",
   "execution_count": 17,
   "metadata": {},
   "outputs": [
    {
     "name": "stdout",
     "output_type": "stream",
     "text": [
      "Saved trained model at C:\\Users\\User\\Desktop\\python\\GitHub\\07_初探深度學習使用Keras\\saved_models\\keras_cifar10_trained_model.h5 \n",
      "10000/10000 [==============================] - 3s 291us/step\n",
      "Test loss: 0.6818761596441268\n",
      "Test accuracy: 0.7906\n"
     ]
    }
   ],
   "source": [
    "# Save model and weights\n",
    "if not os.path.isdir(save_dir):\n",
    "    os.makedirs(save_dir)\n",
    "model_path = os.path.join(save_dir, model_name)\n",
    "model.save(model_path)\n",
    "print('Saved trained model at %s ' % model_path)\n",
    "\n",
    "# Score trained model.\n",
    "scores = model.evaluate(x_test, y_test, verbose=1)\n",
    "print('Test loss:', scores[0])\n",
    "print('Test accuracy:', scores[1])"
   ]
  },
  {
   "cell_type": "code",
   "execution_count": 18,
   "metadata": {},
   "outputs": [
    {
     "name": "stdout",
     "output_type": "stream",
     "text": [
      " test set \n",
      "\n",
      " The test loss is %f  [0.681876158118248, 0.7905999994277955]\n"
     ]
    }
   ],
   "source": [
    "#    第六步：輸出\n",
    "import numpy \n",
    "\n",
    "print ( \" test set \" )\n",
    "scores = model.evaluate(x_test,y_test,batch_size=200,verbose= 0)\n",
    "print ( \"\" )\n",
    "#print ( \" The test loss is %f \" % scores)\n",
    "print ( \" The test loss is %f \", scores)\n",
    "\n",
    "\n",
    "result = model.predict(x_test,batch_size=200,verbose= 0)\n",
    "\n",
    "result_max = numpy.argmax(result, axis = 1 )\n",
    "test_max = numpy.argmax(y_test, axis = 1 )\n",
    "\n",
    "result_bool = numpy.equal(result_max, test_max)\n",
    "true_num = numpy.sum(result_bool)\n"
   ]
  },
  {
   "cell_type": "code",
   "execution_count": 19,
   "metadata": {},
   "outputs": [
    {
     "data": {
      "image/png": "[encoded data removed]",
      "text/plain": [
       "<Figure size 432x288 with 1 Axes>"
      ]
     },
     "metadata": {
      "needs_background": "light"
     },
     "output_type": "display_data"
    },
    {
     "data": {
      "image/png": "[encoded data removed]",
      "text/plain": [
       "<Figure size 432x288 with 1 Axes>"
      ]
     },
     "metadata": {
      "needs_background": "light"
     },
     "output_type": "display_data"
    }
   ],
   "source": [
    "import matplotlib.pyplot as plt\n",
    "%matplotlib inline\n",
    "\n",
    "# Plot training & validation accuracy values\n",
    "plt.plot(history.history['acc'])\n",
    "plt.plot(history.history['val_acc'])\n",
    "plt.title('Model accuracy')\n",
    "plt.ylabel('Accuracy')\n",
    "plt.xlabel('Epoch')\n",
    "plt.legend(['Train', 'Valiidation'], loc='upper left')\n",
    "plt.show()\n",
    "\n",
    "# Plot training & validation loss values\n",
    "plt.plot(history.history['loss'])\n",
    "plt.plot(history.history['val_loss'])\n",
    "plt.title('Model loss')\n",
    "plt.ylabel('Loss')\n",
    "plt.xlabel('Epoch')\n",
    "plt.legend(['Train', 'Valiidation'], loc='upper left')\n",
    "plt.show()"
   ]
  },
  {
   "cell_type": "code",
   "execution_count": null,
   "metadata": {},
   "outputs": [],
   "source": []
  },
  {
   "cell_type": "code",
   "execution_count": null,
   "metadata": {},
   "outputs": [],
   "source": []
  },
  {
   "cell_type": "code",
   "execution_count": null,
   "metadata": {},
   "outputs": [],
   "source": []
  }
 ],
 "metadata": {
  "kernelspec": {
   "display_name": "Python 3",
   "language": "python",
   "name": "python3"
  },
  "language_info": {
   "codemirror_mode": {
    "name": "ipython",
    "version": 3
   },
   "file_extension": ".py",
   "mimetype": "text/x-python",
   "name": "python",
   "nbconvert_exporter": "python",
   "pygments_lexer": "ipython3",
   "version": "3.7.3"
  }
 },
 "nbformat": 4,
 "nbformat_minor": 2
}
