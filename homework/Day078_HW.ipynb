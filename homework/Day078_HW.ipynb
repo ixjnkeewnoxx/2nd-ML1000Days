{
 "cells": [
  {
   "cell_type": "markdown",
   "metadata": {},
   "source": [
    "## Work\n",
    "1. 請嘗試將 preproc_x 替換成以每筆資料的 min/max 進行標準化至 -1 ~ 1 間，再進行訓練\n",
    "2. 請嘗試將 mlp 疊更深 (e.g 5~10 層)，進行訓練後觀察 learning curve 的走勢\n",
    "3. (optional) 請改用 GPU 進行訓練 (如果你有 GPU 的話)，比較使用 CPU 與 GPU 的訓練速度"
   ]
  },
  {
   "cell_type": "code",
   "execution_count": 1,
   "metadata": {},
   "outputs": [
    {
     "name": "stderr",
     "output_type": "stream",
     "text": [
      "'nvidia-smi' 不是內部或外部命令、可執行的程式或批次檔。\n"
     ]
    }
   ],
   "source": [
    "## \n",
    "\"\"\"\n",
    "Your code here (optional)\n",
    "確認硬體資源\n",
    "\"\"\"\n",
    "!nvidia-smi"
   ]
  },
  {
   "cell_type": "code",
   "execution_count": 2,
   "metadata": {},
   "outputs": [
    {
     "name": "stderr",
     "output_type": "stream",
     "text": [
      "Using TensorFlow backend.\n"
     ]
    }
   ],
   "source": [
    "import os\n",
    "import keras\n",
    "\n",
    "# 請嘗試設定 GPU：os.environ\n",
    "os.environ[\"CUDA_VISIBLE_DEVICES\"] = \"\""
   ]
  },
  {
   "cell_type": "code",
   "execution_count": 8,
   "metadata": {},
   "outputs": [],
   "source": [
    "train, test = keras.datasets.cifar10.load_data()"
   ]
  },
  {
   "cell_type": "code",
   "execution_count": 9,
   "metadata": {},
   "outputs": [],
   "source": [
    "## 資料前處理\n",
    "import numpy as np\n",
    "\"\"\"\n",
    "Your code here\n",
    "\"\"\"\n",
    "def preproc_x(x, flatten=True):\n",
    "    x = (x - np.min(x))/(np.max(x) -  np.min(x))\n",
    "    if flatten:\n",
    "        x = x.reshape((len(x), -1))\n",
    "    return x\n",
    "\n",
    "def preproc_y(y, num_classes=10):\n",
    "    if y.shape[-1] == 1:\n",
    "        y = keras.utils.to_categorical(y, num_classes)\n",
    "    return y  "
   ]
  },
  {
   "cell_type": "code",
   "execution_count": 10,
   "metadata": {},
   "outputs": [],
   "source": [
    "x_train, y_train = train\n",
    "x_test, y_test = test\n",
    "\n",
    "# Preproc the inputs\n",
    "x_train = preproc_x(x_train)\n",
    "x_test = preproc_x(x_test)\n",
    "\n",
    "# Preprc the outputs\n",
    "y_train = preproc_y(y_train)\n",
    "y_test = preproc_y(y_test)"
   ]
  },
  {
   "cell_type": "code",
   "execution_count": 12,
   "metadata": {},
   "outputs": [
    {
     "name": "stderr",
     "output_type": "stream",
     "text": [
      "WARNING: Logging before flag parsing goes to stderr.\n",
      "W0810 19:37:25.945459 15224 deprecation_wrapper.py:119] From c:\\users\\user\\anaconda3\\envs\\keras37\\lib\\site-packages\\keras\\backend\\tensorflow_backend.py:74: The name tf.get_default_graph is deprecated. Please use tf.compat.v1.get_default_graph instead.\n",
      "\n",
      "W0810 19:37:25.960392 15224 deprecation_wrapper.py:119] From c:\\users\\user\\anaconda3\\envs\\keras37\\lib\\site-packages\\keras\\backend\\tensorflow_backend.py:517: The name tf.placeholder is deprecated. Please use tf.compat.v1.placeholder instead.\n",
      "\n",
      "W0810 19:37:25.962387 15224 deprecation_wrapper.py:119] From c:\\users\\user\\anaconda3\\envs\\keras37\\lib\\site-packages\\keras\\backend\\tensorflow_backend.py:4138: The name tf.random_uniform is deprecated. Please use tf.random.uniform instead.\n",
      "\n"
     ]
    },
    {
     "name": "stdout",
     "output_type": "stream",
     "text": [
      "_________________________________________________________________\n",
      "Layer (type)                 Output Shape              Param #   \n",
      "=================================================================\n",
      "input_1 (InputLayer)         (None, 3072)              0         \n",
      "_________________________________________________________________\n",
      "hidden_layer1 (Dense)        (None, 512)               1573376   \n",
      "_________________________________________________________________\n",
      "hidden_layer2 (Dense)        (None, 256)               131328    \n",
      "_________________________________________________________________\n",
      "hidden_layer3 (Dense)        (None, 128)               32896     \n",
      "_________________________________________________________________\n",
      "hidden_layer4 (Dense)        (None, 64)                8256      \n",
      "_________________________________________________________________\n",
      "hidden_layer5 (Dense)        (None, 32)                2080      \n",
      "_________________________________________________________________\n",
      "output (Dense)               (None, 10)                330       \n",
      "=================================================================\n",
      "Total params: 1,748,266\n",
      "Trainable params: 1,748,266\n",
      "Non-trainable params: 0\n",
      "_________________________________________________________________\n"
     ]
    }
   ],
   "source": [
    "\"\"\"Code Here\n",
    "建立你的神經網路\n",
    "\"\"\"\n",
    "def build_mlp(input_shape, output_units=10, num_neurons=[512, 256, 128, 64, 32]):\n",
    "    input_layer = keras.layers.Input(input_shape)\n",
    "    \n",
    "    for i, n_units in enumerate(num_neurons):\n",
    "        if i == 0:\n",
    "            x = keras.layers.Dense(units=n_units, activation=\"relu\", name=\"hidden_layer\"+str(i+1))(input_layer)\n",
    "        else:\n",
    "            x = keras.layers.Dense(units=n_units, activation=\"relu\", name=\"hidden_layer\"+str(i+1))(x)\n",
    "    \n",
    "    out = keras.layers.Dense(units=output_units, activation=\"softmax\", name=\"output\")(x)\n",
    "    \n",
    "    model = keras.models.Model(inputs=[input_layer], outputs=[out])\n",
    "    return model\n",
    "model = build_mlp(input_shape=x_train.shape[1:])\n",
    "model.summary()"
   ]
  },
  {
   "cell_type": "code",
   "execution_count": 13,
   "metadata": {},
   "outputs": [],
   "source": [
    "## 超參數設定\n",
    "LEARNING_RATE = 0.001\n",
    "EPOCHS = 100\n",
    "BATCH_SIZE = 256"
   ]
  },
  {
   "cell_type": "code",
   "execution_count": 14,
   "metadata": {},
   "outputs": [
    {
     "name": "stderr",
     "output_type": "stream",
     "text": [
      "W0810 19:37:45.013340 15224 deprecation_wrapper.py:119] From c:\\users\\user\\anaconda3\\envs\\keras37\\lib\\site-packages\\keras\\optimizers.py:790: The name tf.train.Optimizer is deprecated. Please use tf.compat.v1.train.Optimizer instead.\n",
      "\n",
      "W0810 19:37:45.019332 15224 deprecation_wrapper.py:119] From c:\\users\\user\\anaconda3\\envs\\keras37\\lib\\site-packages\\keras\\backend\\tensorflow_backend.py:3295: The name tf.log is deprecated. Please use tf.math.log instead.\n",
      "\n"
     ]
    }
   ],
   "source": [
    "optimizer = keras.optimizers.Adam(lr=LEARNING_RATE)\n",
    "model.compile(loss=\"categorical_crossentropy\", metrics=[\"accuracy\"], optimizer=optimizer)"
   ]
  },
  {
   "cell_type": "code",
   "execution_count": 15,
   "metadata": {},
   "outputs": [
    {
     "name": "stderr",
     "output_type": "stream",
     "text": [
      "W0810 19:37:47.130902 15224 deprecation.py:323] From c:\\users\\user\\anaconda3\\envs\\keras37\\lib\\site-packages\\tensorflow\\python\\ops\\math_grad.py:1250: add_dispatch_support.<locals>.wrapper (from tensorflow.python.ops.array_ops) is deprecated and will be removed in a future version.\n",
      "Instructions for updating:\n",
      "Use tf.where in 2.0, which has the same broadcast rule as np.where\n",
      "W0810 19:37:47.176806 15224 deprecation_wrapper.py:119] From c:\\users\\user\\anaconda3\\envs\\keras37\\lib\\site-packages\\keras\\backend\\tensorflow_backend.py:986: The name tf.assign_add is deprecated. Please use tf.compat.v1.assign_add instead.\n",
      "\n"
     ]
    },
    {
     "name": "stdout",
     "output_type": "stream",
     "text": [
      "Train on 50000 samples, validate on 10000 samples\n",
      "Epoch 1/100\n",
      "50000/50000 [==============================] - 6s 126us/step - loss: 2.0248 - acc: 0.2465 - val_loss: 1.9558 - val_acc: 0.2884\n",
      "Epoch 2/100\n",
      "50000/50000 [==============================] - 6s 116us/step - loss: 1.8012 - acc: 0.3467 - val_loss: 1.7158 - val_acc: 0.3822\n",
      "Epoch 3/100\n",
      "50000/50000 [==============================] - 6s 118us/step - loss: 1.6978 - acc: 0.3896 - val_loss: 1.6752 - val_acc: 0.3966\n",
      "Epoch 4/100\n",
      "50000/50000 [==============================] - 6s 117us/step - loss: 1.6333 - acc: 0.4123 - val_loss: 1.5878 - val_acc: 0.4359\n",
      "Epoch 5/100\n",
      "50000/50000 [==============================] - 6s 114us/step - loss: 1.5843 - acc: 0.4332 - val_loss: 1.5756 - val_acc: 0.4336\n",
      "Epoch 6/100\n",
      "50000/50000 [==============================] - 6s 116us/step - loss: 1.5317 - acc: 0.4534 - val_loss: 1.5232 - val_acc: 0.4582\n",
      "Epoch 7/100\n",
      "50000/50000 [==============================] - 6s 115us/step - loss: 1.4877 - acc: 0.4687 - val_loss: 1.4946 - val_acc: 0.4679\n",
      "Epoch 8/100\n",
      "50000/50000 [==============================] - 6s 115us/step - loss: 1.4513 - acc: 0.4803 - val_loss: 1.5295 - val_acc: 0.4532\n",
      "Epoch 9/100\n",
      "50000/50000 [==============================] - 6s 115us/step - loss: 1.4249 - acc: 0.4900 - val_loss: 1.4481 - val_acc: 0.4813\n",
      "Epoch 10/100\n",
      "50000/50000 [==============================] - 6s 115us/step - loss: 1.3903 - acc: 0.5034 - val_loss: 1.4465 - val_acc: 0.4878\n",
      "Epoch 11/100\n",
      "50000/50000 [==============================] - 6s 115us/step - loss: 1.3725 - acc: 0.5104 - val_loss: 1.4477 - val_acc: 0.4821\n",
      "Epoch 12/100\n",
      "50000/50000 [==============================] - 6s 115us/step - loss: 1.3434 - acc: 0.5205 - val_loss: 1.4593 - val_acc: 0.4802\n",
      "Epoch 13/100\n",
      "50000/50000 [==============================] - 6s 114us/step - loss: 1.3117 - acc: 0.5320 - val_loss: 1.4200 - val_acc: 0.4955\n",
      "Epoch 14/100\n",
      "50000/50000 [==============================] - 6s 113us/step - loss: 1.2939 - acc: 0.5383 - val_loss: 1.4081 - val_acc: 0.5078\n",
      "Epoch 15/100\n",
      "50000/50000 [==============================] - 6s 113us/step - loss: 1.2703 - acc: 0.5456 - val_loss: 1.3921 - val_acc: 0.5082\n",
      "Epoch 16/100\n",
      "50000/50000 [==============================] - 6s 113us/step - loss: 1.2536 - acc: 0.5520 - val_loss: 1.4034 - val_acc: 0.5040\n",
      "Epoch 17/100\n",
      "50000/50000 [==============================] - 6s 114us/step - loss: 1.2296 - acc: 0.5595 - val_loss: 1.4226 - val_acc: 0.4918\n",
      "Epoch 18/100\n",
      "50000/50000 [==============================] - 6s 113us/step - loss: 1.2075 - acc: 0.5678 - val_loss: 1.4221 - val_acc: 0.4994\n",
      "Epoch 19/100\n",
      "50000/50000 [==============================] - 6s 113us/step - loss: 1.1876 - acc: 0.5743 - val_loss: 1.4008 - val_acc: 0.5114\n",
      "Epoch 20/100\n",
      "50000/50000 [==============================] - 6s 113us/step - loss: 1.1799 - acc: 0.5775 - val_loss: 1.3786 - val_acc: 0.5225\n",
      "Epoch 21/100\n",
      "50000/50000 [==============================] - 6s 115us/step - loss: 1.1483 - acc: 0.5894 - val_loss: 1.4044 - val_acc: 0.5091\n",
      "Epoch 22/100\n",
      "50000/50000 [==============================] - 6s 114us/step - loss: 1.1377 - acc: 0.5933 - val_loss: 1.4182 - val_acc: 0.5056\n",
      "Epoch 23/100\n",
      "50000/50000 [==============================] - 6s 114us/step - loss: 1.1053 - acc: 0.6032 - val_loss: 1.4269 - val_acc: 0.5074\n",
      "Epoch 24/100\n",
      "50000/50000 [==============================] - 6s 114us/step - loss: 1.0855 - acc: 0.6096 - val_loss: 1.3945 - val_acc: 0.5199\n",
      "Epoch 25/100\n",
      "50000/50000 [==============================] - 6s 115us/step - loss: 1.0781 - acc: 0.6140 - val_loss: 1.3992 - val_acc: 0.5236\n",
      "Epoch 26/100\n",
      "50000/50000 [==============================] - 6s 115us/step - loss: 1.0614 - acc: 0.6206 - val_loss: 1.4160 - val_acc: 0.5206\n",
      "Epoch 27/100\n",
      "50000/50000 [==============================] - 6s 115us/step - loss: 1.0335 - acc: 0.6303 - val_loss: 1.4184 - val_acc: 0.5182\n",
      "Epoch 28/100\n",
      "50000/50000 [==============================] - 6s 116us/step - loss: 1.0128 - acc: 0.6361 - val_loss: 1.4116 - val_acc: 0.5229\n",
      "Epoch 29/100\n",
      "50000/50000 [==============================] - 6s 115us/step - loss: 1.0059 - acc: 0.6409 - val_loss: 1.4199 - val_acc: 0.5246\n",
      "Epoch 30/100\n",
      "50000/50000 [==============================] - 6s 115us/step - loss: 0.9760 - acc: 0.6511 - val_loss: 1.4726 - val_acc: 0.5176\n",
      "Epoch 31/100\n",
      "50000/50000 [==============================] - 6s 115us/step - loss: 0.9602 - acc: 0.6566 - val_loss: 1.5036 - val_acc: 0.5106\n",
      "Epoch 32/100\n",
      "50000/50000 [==============================] - 6s 115us/step - loss: 0.9510 - acc: 0.6604 - val_loss: 1.4406 - val_acc: 0.5222\n",
      "Epoch 33/100\n",
      "50000/50000 [==============================] - 6s 115us/step - loss: 0.9257 - acc: 0.6666 - val_loss: 1.5109 - val_acc: 0.5186\n",
      "Epoch 34/100\n",
      "50000/50000 [==============================] - 6s 115us/step - loss: 0.9115 - acc: 0.6741 - val_loss: 1.5045 - val_acc: 0.5214\n",
      "Epoch 35/100\n",
      "50000/50000 [==============================] - 6s 114us/step - loss: 0.9043 - acc: 0.6746 - val_loss: 1.4701 - val_acc: 0.5266\n",
      "Epoch 36/100\n",
      "50000/50000 [==============================] - 6s 115us/step - loss: 0.8745 - acc: 0.6866 - val_loss: 1.4910 - val_acc: 0.5194\n",
      "Epoch 37/100\n",
      "50000/50000 [==============================] - 6s 115us/step - loss: 0.8543 - acc: 0.6917 - val_loss: 1.5223 - val_acc: 0.5202\n",
      "Epoch 38/100\n",
      "50000/50000 [==============================] - 6s 115us/step - loss: 0.8405 - acc: 0.6986 - val_loss: 1.5554 - val_acc: 0.5234\n",
      "Epoch 39/100\n",
      "50000/50000 [==============================] - 6s 115us/step - loss: 0.8347 - acc: 0.6993 - val_loss: 1.6351 - val_acc: 0.5091\n",
      "Epoch 40/100\n",
      "50000/50000 [==============================] - 6s 115us/step - loss: 0.8250 - acc: 0.7061 - val_loss: 1.5786 - val_acc: 0.5221\n",
      "Epoch 41/100\n",
      "50000/50000 [==============================] - 6s 115us/step - loss: 0.8115 - acc: 0.7084 - val_loss: 1.6098 - val_acc: 0.5185\n",
      "Epoch 42/100\n",
      "50000/50000 [==============================] - 6s 115us/step - loss: 0.7944 - acc: 0.7144 - val_loss: 1.6508 - val_acc: 0.5119\n",
      "Epoch 43/100\n",
      "50000/50000 [==============================] - 6s 115us/step - loss: 0.7685 - acc: 0.7241 - val_loss: 1.6861 - val_acc: 0.5150\n",
      "Epoch 44/100\n",
      "50000/50000 [==============================] - 6s 115us/step - loss: 0.7497 - acc: 0.7311 - val_loss: 1.6562 - val_acc: 0.5175\n",
      "Epoch 45/100\n",
      "50000/50000 [==============================] - 6s 115us/step - loss: 0.7426 - acc: 0.7321 - val_loss: 1.6761 - val_acc: 0.5188\n",
      "Epoch 46/100\n",
      "50000/50000 [==============================] - 6s 115us/step - loss: 0.7229 - acc: 0.7400 - val_loss: 1.6834 - val_acc: 0.5209\n",
      "Epoch 47/100\n",
      "50000/50000 [==============================] - 6s 115us/step - loss: 0.7046 - acc: 0.7489 - val_loss: 1.7967 - val_acc: 0.5056\n",
      "Epoch 48/100\n",
      "50000/50000 [==============================] - 6s 115us/step - loss: 0.7104 - acc: 0.7453 - val_loss: 1.7457 - val_acc: 0.5136\n",
      "Epoch 49/100\n",
      "50000/50000 [==============================] - 6s 120us/step - loss: 0.6890 - acc: 0.7524 - val_loss: 1.7282 - val_acc: 0.5154\n",
      "Epoch 50/100\n",
      "50000/50000 [==============================] - 6s 116us/step - loss: 0.6730 - acc: 0.7582 - val_loss: 1.8052 - val_acc: 0.5086\n",
      "Epoch 51/100\n",
      "50000/50000 [==============================] - 6s 114us/step - loss: 0.6587 - acc: 0.7635 - val_loss: 1.8760 - val_acc: 0.5082\n",
      "Epoch 52/100\n",
      "50000/50000 [==============================] - 6s 120us/step - loss: 0.6504 - acc: 0.7652 - val_loss: 1.8664 - val_acc: 0.5064\n",
      "Epoch 53/100\n",
      "50000/50000 [==============================] - 6s 119us/step - loss: 0.6486 - acc: 0.7664 - val_loss: 1.8749 - val_acc: 0.5083\n",
      "Epoch 54/100\n",
      "50000/50000 [==============================] - 6s 116us/step - loss: 0.6377 - acc: 0.7702 - val_loss: 1.8675 - val_acc: 0.5122\n",
      "Epoch 55/100\n",
      "50000/50000 [==============================] - 6s 116us/step - loss: 0.6024 - acc: 0.7844 - val_loss: 1.9407 - val_acc: 0.5053\n",
      "Epoch 56/100\n",
      "50000/50000 [==============================] - 6s 116us/step - loss: 0.6003 - acc: 0.7851 - val_loss: 2.0004 - val_acc: 0.5084\n",
      "Epoch 57/100\n",
      "50000/50000 [==============================] - 6s 117us/step - loss: 0.5993 - acc: 0.7867 - val_loss: 1.9755 - val_acc: 0.5146\n",
      "Epoch 58/100\n",
      "50000/50000 [==============================] - 6s 116us/step - loss: 0.5871 - acc: 0.7891 - val_loss: 2.0278 - val_acc: 0.5004\n",
      "Epoch 59/100\n"
     ]
    },
    {
     "name": "stdout",
     "output_type": "stream",
     "text": [
      "50000/50000 [==============================] - 6s 115us/step - loss: 0.5786 - acc: 0.7928 - val_loss: 2.0350 - val_acc: 0.5056\n",
      "Epoch 60/100\n",
      "50000/50000 [==============================] - 6s 114us/step - loss: 0.5669 - acc: 0.7976 - val_loss: 2.0450 - val_acc: 0.5116\n",
      "Epoch 61/100\n",
      "50000/50000 [==============================] - 6s 115us/step - loss: 0.5557 - acc: 0.7986 - val_loss: 2.1388 - val_acc: 0.5040\n",
      "Epoch 62/100\n",
      "50000/50000 [==============================] - 6s 114us/step - loss: 0.5520 - acc: 0.8034 - val_loss: 2.1278 - val_acc: 0.5090\n",
      "Epoch 63/100\n",
      "50000/50000 [==============================] - 6s 115us/step - loss: 0.5319 - acc: 0.8086 - val_loss: 2.1892 - val_acc: 0.5068\n",
      "Epoch 64/100\n",
      "50000/50000 [==============================] - 6s 115us/step - loss: 0.5363 - acc: 0.8073 - val_loss: 2.1267 - val_acc: 0.4981\n",
      "Epoch 65/100\n",
      "50000/50000 [==============================] - 6s 115us/step - loss: 0.5277 - acc: 0.8087 - val_loss: 2.1877 - val_acc: 0.5098\n",
      "Epoch 66/100\n",
      "50000/50000 [==============================] - 6s 114us/step - loss: 0.5124 - acc: 0.8149 - val_loss: 2.2093 - val_acc: 0.5030\n",
      "Epoch 67/100\n",
      "50000/50000 [==============================] - 6s 114us/step - loss: 0.4994 - acc: 0.8210 - val_loss: 2.2803 - val_acc: 0.5057\n",
      "Epoch 68/100\n",
      "50000/50000 [==============================] - 6s 115us/step - loss: 0.5067 - acc: 0.8171 - val_loss: 2.2656 - val_acc: 0.5068\n",
      "Epoch 69/100\n",
      "50000/50000 [==============================] - 6s 119us/step - loss: 0.4969 - acc: 0.8226 - val_loss: 2.2539 - val_acc: 0.5081\n",
      "Epoch 70/100\n",
      "50000/50000 [==============================] - 6s 115us/step - loss: 0.4925 - acc: 0.8230 - val_loss: 2.3020 - val_acc: 0.4982\n",
      "Epoch 71/100\n",
      "50000/50000 [==============================] - 6s 115us/step - loss: 0.4867 - acc: 0.8249 - val_loss: 2.3206 - val_acc: 0.5080\n",
      "Epoch 72/100\n",
      "50000/50000 [==============================] - 6s 115us/step - loss: 0.4562 - acc: 0.8372 - val_loss: 2.4262 - val_acc: 0.5057\n",
      "Epoch 73/100\n",
      "50000/50000 [==============================] - 6s 114us/step - loss: 0.4630 - acc: 0.8350 - val_loss: 2.4281 - val_acc: 0.4960\n",
      "Epoch 74/100\n",
      "50000/50000 [==============================] - 6s 113us/step - loss: 0.4661 - acc: 0.8308 - val_loss: 2.4330 - val_acc: 0.5070\n",
      "Epoch 75/100\n",
      "50000/50000 [==============================] - 6s 114us/step - loss: 0.4526 - acc: 0.8383 - val_loss: 2.5132 - val_acc: 0.5003\n",
      "Epoch 76/100\n",
      "50000/50000 [==============================] - 6s 115us/step - loss: 0.4598 - acc: 0.8337 - val_loss: 2.4301 - val_acc: 0.5064\n",
      "Epoch 77/100\n",
      "50000/50000 [==============================] - 6s 115us/step - loss: 0.4480 - acc: 0.8395 - val_loss: 2.4696 - val_acc: 0.5023\n",
      "Epoch 78/100\n",
      "50000/50000 [==============================] - 6s 115us/step - loss: 0.4308 - acc: 0.8446 - val_loss: 2.5248 - val_acc: 0.4999\n",
      "Epoch 79/100\n",
      "50000/50000 [==============================] - 6s 115us/step - loss: 0.4176 - acc: 0.8504 - val_loss: 2.4906 - val_acc: 0.4997\n",
      "Epoch 80/100\n",
      "50000/50000 [==============================] - 6s 115us/step - loss: 0.4307 - acc: 0.8446 - val_loss: 2.5357 - val_acc: 0.4982\n",
      "Epoch 81/100\n",
      "50000/50000 [==============================] - 6s 115us/step - loss: 0.4156 - acc: 0.8517 - val_loss: 2.5569 - val_acc: 0.5026\n",
      "Epoch 82/100\n",
      "50000/50000 [==============================] - 6s 115us/step - loss: 0.4222 - acc: 0.8483 - val_loss: 2.5064 - val_acc: 0.5020\n",
      "Epoch 83/100\n",
      "50000/50000 [==============================] - 6s 115us/step - loss: 0.3875 - acc: 0.8613 - val_loss: 2.6254 - val_acc: 0.5040\n",
      "Epoch 84/100\n",
      "50000/50000 [==============================] - 6s 115us/step - loss: 0.3871 - acc: 0.8604 - val_loss: 2.6942 - val_acc: 0.4890\n",
      "Epoch 85/100\n",
      "50000/50000 [==============================] - 6s 115us/step - loss: 0.4153 - acc: 0.8516 - val_loss: 2.6770 - val_acc: 0.5029\n",
      "Epoch 86/100\n",
      "50000/50000 [==============================] - 6s 115us/step - loss: 0.4025 - acc: 0.8551 - val_loss: 2.8443 - val_acc: 0.4978\n",
      "Epoch 87/100\n",
      "50000/50000 [==============================] - 6s 115us/step - loss: 0.3536 - acc: 0.8740 - val_loss: 2.7700 - val_acc: 0.5043\n",
      "Epoch 88/100\n",
      "50000/50000 [==============================] - 6s 115us/step - loss: 0.3904 - acc: 0.8614 - val_loss: 2.7098 - val_acc: 0.4957\n",
      "Epoch 89/100\n",
      "50000/50000 [==============================] - 6s 115us/step - loss: 0.3896 - acc: 0.8624 - val_loss: 2.6495 - val_acc: 0.5035\n",
      "Epoch 90/100\n",
      "50000/50000 [==============================] - 6s 115us/step - loss: 0.3637 - acc: 0.8702 - val_loss: 2.6982 - val_acc: 0.5046\n",
      "Epoch 91/100\n",
      "50000/50000 [==============================] - 6s 115us/step - loss: 0.3521 - acc: 0.8744 - val_loss: 2.8124 - val_acc: 0.4977\n",
      "Epoch 92/100\n",
      "50000/50000 [==============================] - 6s 115us/step - loss: 0.3769 - acc: 0.8651 - val_loss: 2.7283 - val_acc: 0.4951\n",
      "Epoch 93/100\n",
      "50000/50000 [==============================] - 6s 115us/step - loss: 0.3853 - acc: 0.8612 - val_loss: 2.7330 - val_acc: 0.4967\n",
      "Epoch 94/100\n",
      "50000/50000 [==============================] - 6s 115us/step - loss: 0.3609 - acc: 0.8715 - val_loss: 2.7592 - val_acc: 0.4998\n",
      "Epoch 95/100\n",
      "50000/50000 [==============================] - 6s 115us/step - loss: 0.3365 - acc: 0.8811 - val_loss: 2.8697 - val_acc: 0.4988\n",
      "Epoch 96/100\n",
      "50000/50000 [==============================] - 6s 115us/step - loss: 0.3550 - acc: 0.8724 - val_loss: 2.7536 - val_acc: 0.5011\n",
      "Epoch 97/100\n",
      "50000/50000 [==============================] - 6s 115us/step - loss: 0.3405 - acc: 0.8788 - val_loss: 2.8917 - val_acc: 0.5011\n",
      "Epoch 98/100\n",
      "50000/50000 [==============================] - 6s 115us/step - loss: 0.3278 - acc: 0.8811 - val_loss: 2.9003 - val_acc: 0.4902\n",
      "Epoch 99/100\n",
      "50000/50000 [==============================] - 6s 115us/step - loss: 0.3372 - acc: 0.8792 - val_loss: 2.9905 - val_acc: 0.4859\n",
      "Epoch 100/100\n",
      "50000/50000 [==============================] - 6s 115us/step - loss: 0.3519 - acc: 0.8737 - val_loss: 2.8617 - val_acc: 0.4988\n"
     ]
    },
    {
     "data": {
      "text/plain": [
       "<keras.callbacks.History at 0x1227a37b630>"
      ]
     },
     "execution_count": 15,
     "metadata": {},
     "output_type": "execute_result"
    }
   ],
   "source": [
    "model.fit(x_train, y_train, \n",
    "          epochs=EPOCHS, \n",
    "          batch_size=BATCH_SIZE, \n",
    "          validation_data=(x_test, y_test), \n",
    "          shuffle=True)"
   ]
  },
  {
   "cell_type": "code",
   "execution_count": 17,
   "metadata": {},
   "outputs": [
    {
     "data": {
      "image/png": "[encoded data removed]",
      "text/plain": [
       "<Figure size 432x288 with 1 Axes>"
      ]
     },
     "metadata": {
      "needs_background": "light"
     },
     "output_type": "display_data"
    },
    {
     "data": {
      "image/png": "[encoded data removed]",
      "text/plain": [
       "<Figure size 432x288 with 1 Axes>"
      ]
     },
     "metadata": {
      "needs_background": "light"
     },
     "output_type": "display_data"
    }
   ],
   "source": [
    "import matplotlib.pyplot as plt\n",
    "\n",
    "\n",
    "train_loss = model.history.history[\"loss\"]\n",
    "valid_loss = model.history.history[\"val_loss\"]\n",
    "\n",
    "train_acc = model.history.history[\"acc\"]\n",
    "valid_acc = model.history.history[\"val_acc\"]\n",
    "\n",
    "plt.plot(range(len(train_loss)), train_loss, label=\"train loss\")\n",
    "plt.plot(range(len(valid_loss)), valid_loss, label=\"valid loss\")\n",
    "plt.legend()\n",
    "plt.title(\"Loss\")\n",
    "plt.show()\n",
    "\n",
    "plt.plot(range(len(train_acc)), train_acc, label=\"train accuracy\")\n",
    "plt.plot(range(len(valid_acc)), valid_acc, label=\"valid accuracy\")\n",
    "plt.legend()\n",
    "plt.title(\"Accuracy\")\n",
    "plt.show()"
   ]
  },
  {
   "cell_type": "code",
   "execution_count": null,
   "metadata": {},
   "outputs": [],
   "source": []
  }
 ],
 "metadata": {
  "kernelspec": {
   "display_name": "Python 3",
   "language": "python",
   "name": "python3"
  },
  "language_info": {
   "codemirror_mode": {
    "name": "ipython",
    "version": 3
   },
   "file_extension": ".py",
   "mimetype": "text/x-python",
   "name": "python",
   "nbconvert_exporter": "python",
   "pygments_lexer": "ipython3",
   "version": "3.7.3"
  }
 },
 "nbformat": 4,
 "nbformat_minor": 2
}
